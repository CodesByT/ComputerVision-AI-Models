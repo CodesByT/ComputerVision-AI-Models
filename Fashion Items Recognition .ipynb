{
 "cells": [
  {
   "cell_type": "code",
   "execution_count": 6,
   "id": "6b35be5c-2570-408d-a792-0e99e31b6019",
   "metadata": {},
   "outputs": [],
   "source": [
    "import tensorflow as tf\n",
    "import numpy as np\n",
    "import matplotlib.pyplot as plt\n",
    "import keras "
   ]
  },
  {
   "cell_type": "markdown",
   "id": "bf515639-822e-44b6-87b6-29404bf2dbba",
   "metadata": {},
   "source": [
    "## DataSet"
   ]
  },
  {
   "cell_type": "code",
   "execution_count": 7,
   "id": "f602bb8b-8e4b-4459-8e48-51997aa6cdab",
   "metadata": {},
   "outputs": [],
   "source": [
    "# Load the Fashion-MNIST dataset\n",
    "\n",
    "fashion_mnist = tf.keras.datasets.fashion_mnist\n",
    "\n",
    "# Loading the training and test split of the Fashion MNIST dataset\n",
    "\n",
    "(training_images, training_labels), (test_images, test_labels) = fashion_mnist.load_data()\n",
    "\n",
    "# Each training_images / test_image will have an array of the pixels of size 28 x 28, which is a 2d matrix\n",
    "# it means training_images and test_images are 3d arrays"
   ]
  },
  {
   "cell_type": "code",
   "execution_count": 8,
   "id": "9fea4094-ac22-46c2-a845-a46b9e0fb993",
   "metadata": {},
   "outputs": [
    {
     "name": "stdout",
     "output_type": "stream",
     "text": [
      "LABEL:  {8}\n",
      "\n",
      "ONE IMAGE PIXEL ARRAY:\n",
      " [[  0   0   0   0   0   0   0   0   0   0   0   0   0   0   0   0   0   0   0   0   0   0   0   0   0   0   0   0]\n",
      " [  0   0   0   0   0   0   0   0   0   0   0   0   0   0   0   0   0   0   0   0   0   0   0   0   0   0   0   0]\n",
      " [  0   0   0   0   0   0   0   0   0   0   0   0   0   0   0   0   0   0   0   0   0   0   0   0   0   0   0   0]\n",
      " [  0   0   0   0   0   0   0   1   1   0   2   0   0  65 103 103  96  91  66   0   0   3   0   0   0   0   0   0]\n",
      " [  0   0   0   0   2   1   0   2   2   0   0   0 135 108  28   6   4  21  85 134   8   0   0   0   0   0   0   0]\n",
      " [  0   0   0   0   1   3   0   0   3   0   9 166  39   0   0   0   0   0   0  19 113  11   0   2   0   0   0   0]\n",
      " [  0   0   0   0   0   0   0   2   0   0 154 104   0  10   3   4   5   1   8   0  98 179   0   0   1   0   0   0]\n",
      " [  0   0   0   3   7   0   0   0   0   0  70  11   0   0   0   0   0   0   0   0   0  41   0   0   0   0   1   0]\n",
      " [  2   0   1   0   0   0   0  72 136  45 210 145   9  18  19  18  16  14   7   0  39 133  11 104 130   0   0   1]\n",
      " [  0   4   0   0 175 107 131 170 163 170 167 170 196 191 192 190 190 187 180 181 169 171 168 161 161  48   0   0]\n",
      " [  0   5   0 177 200  92 223 190 179 185 180 177 190 199 193 192 190 189 194 191 193 192 193 188 184 208  97   0]\n",
      " [  5   0 107 186   0  39 216 184 187 195 190 175 179 206 197 197 195 196 197 199 202 196 196 191 193 180  86   0]\n",
      " [  0   0 214  24   0 178 213 182 177 193 175 211 171 205 195 194 189 196 198 185 182 182 181 183 193 178 113   0]\n",
      " [  0 156 182   0   0 228 202 207 238 210 169 227 180 205 249 226 238 237 220 224 217 212 215 213 217 206 147   0]\n",
      " [  2 208   7   0  56 221 192 211 223 192 174 223 195 195 116  97 109 107 121 251 228 225 229 231 220 207 169   0]\n",
      " [111 165   0   0 122 218 194 197 192 228 243 214 215 215  40  28  32  20  23 203 198 193 192 195 200 199 182   6]\n",
      " [135 140   0   0 200 208 187 199 202 221 225 223 208 197 254 255 255 255 255 201 194 196 195 192 193 203 193  10]\n",
      " [137 105   0   0 231 187 184 201 203 211 210 209 211 201 188 180 184 185 195 196 198 199 200 194 198 203 203  10]\n",
      " [109 100   0   0 214 196 203 198 199 203 209 208 208 211 212 210 207 206 204 204 203 205 204 202 201 203 221  21]\n",
      " [ 36 150   0  39 229 198 199 189 193 201 206 207 207 207 210 211 206 204 204 203 204 206 206 208 203 204 238  31]\n",
      " [  0 143  60   5 234 198 194 201 199 206 210 210 209 210 212 213 212 210 207 207 209 213 210 210 213 209 251  47]\n",
      " [  0   0 163 169 207 202 163 204 210 216 218 219 222 216 211 213 213 214 216 215 216 218 212 210 215 212 224  67]\n",
      " [  2   0   0 137 207 218 205 222 223 231 229 228 224 230 226 222 224 221 224 224 224 223 224 222 216 209 224  78]\n",
      " [  0   1   0   0 194 225 213 207 203 207 206 208 203 205 224 221 218 216 217 217 217 217 217 217 217 213 234 104]\n",
      " [  0   2   0   0 204 238 217 231 247 243 240 246 247 234 255 255 249 254 251 251 251 252 250 248 210 207 210  67]\n",
      " [  0   0   0   0  17  71  88 101 121 135 145 156 157  54  11  15  17  22  20  21  21  22  16  13  12  16  19   0]\n",
      " [  0   0   0   0   0   0   0   0   0   0   0   0   0   0   0   0   0   0   0   0   0   0   0   0   0   0   0   0]\n",
      " [  0   0   0   0   0   0   0   0   0   0   0   0   0   0   0   0   0   0   0   0   0   0   0   0   0   0   0   0]]\n"
     ]
    },
    {
     "data": {
      "text/plain": [
       "<matplotlib.image.AxesImage at 0x1ddaf111b50>"
      ]
     },
     "execution_count": 8,
     "metadata": {},
     "output_type": "execute_result"
    },
    {
     "data": {
      "image/png": "[encoded data removed]",
      "text/plain": [
       "<Figure size 640x480 with 1 Axes>"
      ]
     },
     "metadata": {},
     "output_type": "display_data"
    }
   ],
   "source": [
    "# You can put between 0 to 59999 here\n",
    "index = 35482\n",
    "\n",
    "# Set number of characters per row when printing\n",
    "np.set_printoptions(linewidth=320)\n",
    "\n",
    "# Print the label and image\n",
    "print('LABEL: ',{training_labels[index]})\n",
    "print(f'\\nONE IMAGE PIXEL ARRAY:\\n {training_images[index]}')\n",
    "\n",
    "# Visualize the image\n",
    "plt.imshow(training_images[index])"
   ]
  },
  {
   "cell_type": "markdown",
   "id": "45bec2c6-7f7b-482b-886f-5ec0071518c6",
   "metadata": {},
   "source": [
    "## Normalization"
   ]
  },
  {
   "cell_type": "code",
   "execution_count": 9,
   "id": "000bb15d-425d-44f6-af91-35d47d22a692",
   "metadata": {},
   "outputs": [],
   "source": [
    "''' If you are training a neural network especially in image processing,\n",
    " for various reasons it will usually learn better if you scale all values \n",
    " to between 0 and 1. It\\'s a process called normalization'''\n",
    "\n",
    "# Normalizing the pixel values of the train and test images\n",
    "training_images  = training_images / 255.0\n",
    "test_images = test_images / 255.0"
   ]
  },
  {
   "cell_type": "code",
   "execution_count": 10,
   "id": "35f0f6c1-3f36-446d-a777-4779927a2d49",
   "metadata": {},
   "outputs": [],
   "source": [
    "# Making Dictionary of the Labels to its relative class\n",
    "items = {\n",
    "    0 : 'Shirt',\n",
    "    1 : 'Trouser',\n",
    "    2 : 'Pullover',\n",
    "    3 : 'Dress',\n",
    "    4 : 'Coat',\n",
    "    5 : 'Sandal',\n",
    "    6 : 'Shirt',\n",
    "    7 : 'Sneaker',\n",
    "    8 : 'Bag',\n",
    "    9 : 'Ankle Boot',\n",
    "}"
   ]
  },
  {
   "cell_type": "markdown",
   "id": "8e7c26c9-c617-4ddf-8616-5fa30574c3a8",
   "metadata": {},
   "source": [
    "## Neural Network"
   ]
  },
  {
   "cell_type": "code",
   "execution_count": 18,
   "id": "38485479-1863-45e8-ba86-c484c61f5197",
   "metadata": {},
   "outputs": [
    {
     "data": {
      "text/plain": [
       "'\\n we have three layers of our model\\n first layer is input layer taking input of image and changing it into array\\n second layer hidden layer doing all the work\\n third layer is storing the output according to the label\\n'"
      ]
     },
     "execution_count": 18,
     "metadata": {},
     "output_type": "execute_result"
    }
   ],
   "source": [
    "# Build the classification model \n",
    "model = tf.keras.models.Sequential([\n",
    "    tf.keras.layers.Flatten(), \n",
    "    tf.keras.layers.Dense(512, activation=tf.nn.relu), \n",
    "    tf.keras.layers.Dense(10, activation=tf.nn.softmax)\n",
    "])\n",
    "'''\n",
    " we have three layers of our model\n",
    " first layer is input layer taking input of image and changing it into array\n",
    " second layer hidden layer doing all the work\n",
    " third layer is storing the output according to the label\n",
    "'''"
   ]
  },
  {
   "cell_type": "markdown",
   "id": "2da27052-b633-4ccc-9e55-ab11ebf7b9f8",
   "metadata": {},
   "source": [
    "## Softmax Regression"
   ]
  },
  {
   "cell_type": "code",
   "execution_count": 12,
   "id": "c7fc6c3f-8d9d-423a-b1ae-e049f5b5f86d",
   "metadata": {},
   "outputs": [
    {
     "name": "stdout",
     "output_type": "stream",
     "text": [
      "input to softmax function: [[1. 3. 4. 2.]]\n",
      "output of softmax function: [[0.0320586  0.23688282 0.64391426 0.08714432]]\n",
      "sum of outputs: 1.0\n",
      "class with highest probability: 2\n"
     ]
    }
   ],
   "source": [
    "# Softmax activation function \n",
    "# Example is about its working hiddeosly in the second layer\n",
    "\n",
    "# Declare sample inputs and convert to a tensor\n",
    "inputs = np.array([[1.0, 3.0, 4.0, 2.0]])\n",
    "inputs = tf.convert_to_tensor(inputs)\n",
    "print(f'input to softmax function: {inputs.numpy()}')\n",
    "\n",
    "# Feed the inputs to a softmax activation function\n",
    "outputs = tf.keras.activations.softmax(inputs)\n",
    "print(f'output of softmax function: {outputs.numpy()}')\n",
    "\n",
    "# Get the sum of all values after the softmax\n",
    "sum = tf.reduce_sum(outputs)\n",
    "print(f'sum of outputs: {sum}')\n",
    "\n",
    "# Get the index with highest value\n",
    "prediction = np.argmax(outputs)\n",
    "print(f'class with highest probability: {prediction}')"
   ]
  },
  {
   "cell_type": "markdown",
   "id": "727c52b2-7c0a-41e6-8794-a364e327e6a1",
   "metadata": {},
   "source": [
    "## CallBacks class"
   ]
  },
  {
   "cell_type": "code",
   "execution_count": 22,
   "id": "6ac2f9b3-29a2-44a8-afe2-d931eed9a416",
   "metadata": {},
   "outputs": [],
   "source": [
    "'''\n",
    "Ends the training when the loss falls below 0.4\n",
    "it also helps the model to avoid overtraining\n",
    "Args:\n",
    "      -> epoch (integer) - index of epoch (required but unused in the function definition below)\n",
    "      -> logs (dict) - metric results from the training epoch\n",
    "'''\n",
    "class myCallBacks(tf.keras.callbacks.Callback):\n",
    "    def on_epoch_end(self, epoch, logs={}):\n",
    "        #if logs.get('accuracy') is not None and logs.get('accuracy') > 0.99:    \n",
    "        if( logs.get('loss') < 0.4):\n",
    "            print(\"\\n\\nLoss is lower than 0.4, so cancelling the training\")\n",
    "            self.model.stop_training = True\n",
    "            \n",
    "# Instantiating the class\n",
    "callback = myCallBacks() "
   ]
  },
  {
   "cell_type": "markdown",
   "id": "669c9266-9bc2-42f4-bf0e-be459dfc6338",
   "metadata": {},
   "source": [
    "##  Model Compilation"
   ]
  },
  {
   "cell_type": "code",
   "execution_count": 20,
   "id": "962735e7-1235-47a8-89cf-d7656c6f1c4d",
   "metadata": {},
   "outputs": [],
   "source": [
    "# Model compilation with optimizer to choose next close option\n",
    "model.compile(\n",
    "        optimizer = tf.optimizers.Adam(),\n",
    "        loss = 'sparse_categorical_crossentropy',\n",
    "        metrics=['accuracy']\n",
    ")"
   ]
  },
  {
   "cell_type": "markdown",
   "id": "86043714-18de-4195-a25a-c8c23937e170",
   "metadata": {},
   "source": [
    "## Model Training"
   ]
  },
  {
   "cell_type": "code",
   "execution_count": 23,
   "id": "561368c7-6930-411d-8d1e-50469f4f748f",
   "metadata": {},
   "outputs": [
    {
     "name": "stdout",
     "output_type": "stream",
     "text": [
      "Epoch 1/15\n",
      "1872/1875 [============================>.] - ETA: 0s - loss: 0.3209 - accuracy: 0.8808\n",
      "\n",
      "Loss is lower than 0.4, so cancelling the training\n",
      "1875/1875 [==============================] - 20s 11ms/step - loss: 0.3208 - accuracy: 0.8808\n"
     ]
    },
    {
     "data": {
      "text/plain": [
       "<keras.src.callbacks.History at 0x1ddb4602c50>"
      ]
     },
     "execution_count": 23,
     "metadata": {},
     "output_type": "execute_result"
    }
   ],
   "source": [
    "model.fit(training_images, training_labels, epochs=15,callbacks=[callback])"
   ]
  },
  {
   "cell_type": "markdown",
   "id": "318bc1a4-1807-4b59-8d6a-d99b4fc71f92",
   "metadata": {},
   "source": [
    "##  Model Accuracy"
   ]
  },
  {
   "cell_type": "code",
   "execution_count": 108,
   "id": "17f64f93-7013-4821-b6ac-d4ceff6f58b0",
   "metadata": {},
   "outputs": [
    {
     "name": "stdout",
     "output_type": "stream",
     "text": [
      "313/313 [==============================] - 1s 2ms/step - loss: 0.3389 - accuracy: 0.8884\n"
     ]
    },
    {
     "data": {
      "text/plain": [
       "[0.33889251947402954, 0.8884000182151794]"
      ]
     },
     "execution_count": 108,
     "metadata": {},
     "output_type": "execute_result"
    }
   ],
   "source": [
    "# Testing the model accuracy with an unseen data\n",
    "\n",
    "model.evaluate(test_images, test_labels)"
   ]
  },
  {
   "cell_type": "markdown",
   "id": "627baa5b-808a-4250-abf1-e1d677067c28",
   "metadata": {},
   "source": [
    "## Model Predictions"
   ]
  },
  {
   "cell_type": "code",
   "execution_count": 109,
   "id": "7e49ccaa-e444-4577-b39f-7c2ec11ce4d2",
   "metadata": {},
   "outputs": [
    {
     "name": "stdout",
     "output_type": "stream",
     "text": [
      "Prediction | Given Image is of a \" Pullover \"\n"
     ]
    },
    {
     "data": {
      "image/png": "[encoded data removed]",
      "text/plain": [
       "<Figure size 640x480 with 1 Axes>"
      ]
     },
     "metadata": {},
     "output_type": "display_data"
    }
   ],
   "source": [
    "index = 500\n",
    "plt.imshow(test_images[index])\n",
    "print(f'Prediction | Given Image is of a \" {items[test_labels[index]]} \"')"
   ]
  },
  {
   "cell_type": "code",
   "execution_count": 110,
   "id": "c09add79-4a85-4f23-b9b2-db70972f93a2",
   "metadata": {},
   "outputs": [
    {
     "name": "stdout",
     "output_type": "stream",
     "text": [
      "Prediction | Given Image is of a \" Bag \"\n"
     ]
    },
    {
     "data": {
      "image/png": "[encoded data removed]",
      "text/plain": [
       "<Figure size 640x480 with 1 Axes>"
      ]
     },
     "metadata": {},
     "output_type": "display_data"
    }
   ],
   "source": [
    "index = 2789\n",
    "plt.imshow(test_images[index])\n",
    "print(f'Prediction | Given Image is of a \" {items[test_labels[index]]} \"')\n"
   ]
  },
  {
   "cell_type": "code",
   "execution_count": 111,
   "id": "5df40018-bfb3-4bf6-9e84-af562592c9c0",
   "metadata": {},
   "outputs": [
    {
     "name": "stdout",
     "output_type": "stream",
     "text": [
      "Prediction | Given Image is of a \" Bag \"\n"
     ]
    },
    {
     "data": {
      "image/png": "[encoded data removed]",
      "text/plain": [
       "<Figure size 640x480 with 1 Axes>"
      ]
     },
     "metadata": {},
     "output_type": "display_data"
    }
   ],
   "source": [
    "index = 9923\n",
    "plt.imshow(test_images[index])\n",
    "print(f'Prediction | Given Image is of a \" {items[test_labels[index]]} \"')\n"
   ]
  },
  {
   "cell_type": "code",
   "execution_count": 112,
   "id": "d62b9b89-d43f-4f54-adec-1886f7d42912",
   "metadata": {},
   "outputs": [
    {
     "name": "stdout",
     "output_type": "stream",
     "text": [
      "Prediction | Given Image is of a \" Trouser \"\n"
     ]
    },
    {
     "data": {
      "image/png": "[encoded data removed]",
      "text/plain": [
       "<Figure size 640x480 with 1 Axes>"
      ]
     },
     "metadata": {},
     "output_type": "display_data"
    }
   ],
   "source": [
    "index = 3000\n",
    "plt.imshow(test_images[index])\n",
    "print(f'Prediction | Given Image is of a \" {items[test_labels[index]]} \"')\n"
   ]
  },
  {
   "cell_type": "code",
   "execution_count": 113,
   "id": "b60a726c-1295-4614-9f83-400d556997a0",
   "metadata": {},
   "outputs": [
    {
     "name": "stdout",
     "output_type": "stream",
     "text": [
      "Prediction | Given Image is of a \" Ankle Boot \"\n"
     ]
    },
    {
     "data": {
      "image/png": "[encoded data removed]",
      "text/plain": [
       "<Figure size 640x480 with 1 Axes>"
      ]
     },
     "metadata": {},
     "output_type": "display_data"
    }
   ],
   "source": [
    "index = 1962\n",
    "plt.imshow(test_images[index])\n",
    "print(f'Prediction | Given Image is of a \" {items[test_labels[index]]} \"')\n"
   ]
  },
  {
   "cell_type": "code",
   "execution_count": null,
   "id": "9280e9f3-31c4-4396-b043-eff501298472",
   "metadata": {},
   "outputs": [],
   "source": []
  }
 ],
 "metadata": {
  "kernelspec": {
   "display_name": "Python 3 (ipykernel)",
   "language": "python",
   "name": "python3"
  },
  "language_info": {
   "codemirror_mode": {
    "name": "ipython",
    "version": 3
   },
   "file_extension": ".py",
   "mimetype": "text/x-python",
   "name": "python",
   "nbconvert_exporter": "python",
   "pygments_lexer": "ipython3",
   "version": "3.11.4"
  }
 },
 "nbformat": 4,
 "nbformat_minor": 5
}
